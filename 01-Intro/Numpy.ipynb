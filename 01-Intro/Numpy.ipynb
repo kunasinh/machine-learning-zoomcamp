{
 "cells": [
  {
   "cell_type": "code",
   "execution_count": 1,
   "id": "dba08345-479a-4509-bcc4-127e84ba9503",
   "metadata": {},
   "outputs": [],
   "source": [
    "import numpy as np"
   ]
  },
  {
   "cell_type": "code",
   "execution_count": 2,
   "id": "24a87c97-a4ad-4081-9b46-738c446cba70",
   "metadata": {},
   "outputs": [
    {
     "data": {
      "text/plain": [
       "array([0., 0., 0., 0., 0.])"
      ]
     },
     "execution_count": 2,
     "metadata": {},
     "output_type": "execute_result"
    }
   ],
   "source": [
    "np.zeros(5)"
   ]
  },
  {
   "cell_type": "code",
   "execution_count": 3,
   "id": "9a92d954-9800-4790-898c-19d9704f34a4",
   "metadata": {},
   "outputs": [
    {
     "data": {
      "text/plain": [
       "array([1., 1., 1., 1., 1., 1., 1., 1., 1., 1.])"
      ]
     },
     "execution_count": 3,
     "metadata": {},
     "output_type": "execute_result"
    }
   ],
   "source": [
    "np.ones(10)"
   ]
  },
  {
   "cell_type": "code",
   "execution_count": 4,
   "id": "b97b69ad-0669-4fcd-bde2-4e51c18121a7",
   "metadata": {},
   "outputs": [
    {
     "data": {
      "text/plain": [
       "array([2.5, 2.5, 2.5, 2.5, 2.5, 2.5, 2.5, 2.5, 2.5, 2.5])"
      ]
     },
     "execution_count": 4,
     "metadata": {},
     "output_type": "execute_result"
    }
   ],
   "source": [
    "np.full(10,2.5)"
   ]
  },
  {
   "cell_type": "code",
   "execution_count": 5,
   "id": "ab6dcd36-a89e-4931-a632-5391f828b92c",
   "metadata": {},
   "outputs": [
    {
     "data": {
      "text/plain": [
       "array([ 1,  2,  3,  4,  5, 56,  7])"
      ]
     },
     "execution_count": 5,
     "metadata": {},
     "output_type": "execute_result"
    }
   ],
   "source": [
    "a = np.array([1,2,3,4,5,56,7])\n",
    "a"
   ]
  },
  {
   "cell_type": "code",
   "execution_count": 6,
   "id": "ddbb13dc-51d1-470b-9851-b60ffb646612",
   "metadata": {},
   "outputs": [],
   "source": [
    "a[5] = 7"
   ]
  },
  {
   "cell_type": "code",
   "execution_count": 7,
   "id": "c7e0993c-b353-49bc-b390-fbf7fe639f81",
   "metadata": {},
   "outputs": [
    {
     "data": {
      "text/plain": [
       "array([1, 2, 3, 4, 5, 7, 7])"
      ]
     },
     "execution_count": 7,
     "metadata": {},
     "output_type": "execute_result"
    }
   ],
   "source": [
    "a"
   ]
  },
  {
   "cell_type": "code",
   "execution_count": 8,
   "id": "ebe95ebf-ec63-44cb-86b2-fbb4254b62ad",
   "metadata": {},
   "outputs": [
    {
     "data": {
      "text/plain": [
       "array([0, 1, 2, 3, 4, 5, 6, 7, 8, 9])"
      ]
     },
     "execution_count": 8,
     "metadata": {},
     "output_type": "execute_result"
    }
   ],
   "source": [
    "np.arange(10)"
   ]
  },
  {
   "cell_type": "code",
   "execution_count": 9,
   "id": "95c30a89-3520-45b5-a008-74bfbcff116b",
   "metadata": {},
   "outputs": [
    {
     "data": {
      "text/plain": [
       "array([3, 4, 5, 6, 7, 8, 9])"
      ]
     },
     "execution_count": 9,
     "metadata": {},
     "output_type": "execute_result"
    }
   ],
   "source": [
    "np.arange(3,10)"
   ]
  },
  {
   "cell_type": "code",
   "execution_count": 10,
   "id": "9ef0c7a0-d0c9-4c80-8c32-450a896ec698",
   "metadata": {},
   "outputs": [
    {
     "data": {
      "text/plain": [
       "array([ 0.,  1.,  2.,  3.,  4.,  5.,  6.,  7.,  8.,  9., 10.])"
      ]
     },
     "execution_count": 10,
     "metadata": {},
     "output_type": "execute_result"
    }
   ],
   "source": [
    "np.linspace(0,10,11)"
   ]
  },
  {
   "cell_type": "code",
   "execution_count": 11,
   "id": "56970469-b086-440f-b6a7-ade81b430401",
   "metadata": {},
   "outputs": [],
   "source": [
    "##multidimensional array"
   ]
  },
  {
   "cell_type": "code",
   "execution_count": 12,
   "id": "0e7ea9cf-2d55-4be8-a311-a093f39a3cee",
   "metadata": {},
   "outputs": [
    {
     "data": {
      "text/plain": [
       "array([[0., 0.],\n",
       "       [0., 0.],\n",
       "       [0., 0.],\n",
       "       [0., 0.],\n",
       "       [0., 0.]])"
      ]
     },
     "execution_count": 12,
     "metadata": {},
     "output_type": "execute_result"
    }
   ],
   "source": [
    "np.zeros((5,2))"
   ]
  },
  {
   "cell_type": "code",
   "execution_count": 13,
   "id": "a3ae83c0-e346-4aea-a426-afd6d34b909c",
   "metadata": {},
   "outputs": [
    {
     "data": {
      "text/plain": [
       "array([[ 1,  2, 12],\n",
       "       [ 4,  5,  6],\n",
       "       [ 7,  8,  9]])"
      ]
     },
     "execution_count": 13,
     "metadata": {},
     "output_type": "execute_result"
    }
   ],
   "source": [
    "a =np.array([\n",
    "    [1,2,3],\n",
    "    [4,5,6],\n",
    "    [7,8,9]\n",
    "])\n",
    "a[0,2] =12\n",
    "a"
   ]
  },
  {
   "cell_type": "code",
   "execution_count": 14,
   "id": "7988e4b5-e26b-44a2-85f8-b928048f0d5d",
   "metadata": {},
   "outputs": [],
   "source": [
    "a[:,2] =[1,1,1]"
   ]
  },
  {
   "cell_type": "code",
   "execution_count": 15,
   "id": "a3feb449-7d84-4a2a-a01a-86b00c94ea88",
   "metadata": {},
   "outputs": [
    {
     "data": {
      "text/plain": [
       "array([[1, 2, 1],\n",
       "       [4, 5, 1],\n",
       "       [7, 8, 1]])"
      ]
     },
     "execution_count": 15,
     "metadata": {},
     "output_type": "execute_result"
    }
   ],
   "source": [
    "a"
   ]
  },
  {
   "cell_type": "code",
   "execution_count": 16,
   "id": "7dce0dfc-c3e0-4256-87a1-761005b44693",
   "metadata": {},
   "outputs": [
    {
     "data": {
      "text/plain": [
       "array([[0.4359949 , 0.02592623],\n",
       "       [0.54966248, 0.43532239],\n",
       "       [0.4203678 , 0.33033482],\n",
       "       [0.20464863, 0.61927097],\n",
       "       [0.29965467, 0.26682728]])"
      ]
     },
     "execution_count": 16,
     "metadata": {},
     "output_type": "execute_result"
    }
   ],
   "source": [
    "np.random.seed(2)\n",
    "np.random.rand(5,2)"
   ]
  },
  {
   "cell_type": "code",
   "execution_count": 17,
   "id": "9409641d-c26e-4a3e-86a0-2e48acb05e07",
   "metadata": {},
   "outputs": [
    {
     "data": {
      "text/plain": [
       "array([[ -41.67578474,   -5.62668272],\n",
       "       [-213.61960957,  164.02708084],\n",
       "       [-179.34355852,  -84.17473657],\n",
       "       [  50.28814172, -124.52880866],\n",
       "       [-105.79522189,  -90.90076149]])"
      ]
     },
     "execution_count": 17,
     "metadata": {},
     "output_type": "execute_result"
    }
   ],
   "source": [
    "np.random.seed(2)\n",
    "100 * np.random.randn(5,2)"
   ]
  },
  {
   "cell_type": "code",
   "execution_count": 18,
   "id": "0750f58a-7bc8-4717-b459-366568bb0f6a",
   "metadata": {},
   "outputs": [
    {
     "data": {
      "text/plain": [
       "array([[40, 15],\n",
       "       [72, 22],\n",
       "       [43, 82],\n",
       "       [75,  7],\n",
       "       [34, 49]])"
      ]
     },
     "execution_count": 18,
     "metadata": {},
     "output_type": "execute_result"
    }
   ],
   "source": [
    "np.random.seed(2)\n",
    "np.random.randint(low=0, high =100, size=(5,2))"
   ]
  },
  {
   "cell_type": "code",
   "execution_count": 19,
   "id": "4f9cdbbb-1d39-4171-b2a5-b3ffff560d3c",
   "metadata": {},
   "outputs": [
    {
     "data": {
      "text/plain": [
       "array([0, 1, 2, 3, 4])"
      ]
     },
     "execution_count": 19,
     "metadata": {},
     "output_type": "execute_result"
    }
   ],
   "source": [
    "a = np.arange(5)\n",
    "a"
   ]
  },
  {
   "cell_type": "code",
   "execution_count": 20,
   "id": "82b05ed0-a35a-4b74-b62a-e82e20d56047",
   "metadata": {},
   "outputs": [
    {
     "data": {
      "text/plain": [
       "array([2, 3, 4, 5, 6])"
      ]
     },
     "execution_count": 20,
     "metadata": {},
     "output_type": "execute_result"
    }
   ],
   "source": [
    "a+2"
   ]
  },
  {
   "cell_type": "code",
   "execution_count": 21,
   "id": "d350d1b2-3720-4938-9c31-e0e3f5b47f78",
   "metadata": {},
   "outputs": [
    {
     "data": {
      "text/plain": [
       "array([100, 144, 196, 256, 324])"
      ]
     },
     "execution_count": 21,
     "metadata": {},
     "output_type": "execute_result"
    }
   ],
   "source": [
    "b = (10+(a*2))**2 \n",
    "b"
   ]
  },
  {
   "cell_type": "code",
   "execution_count": 22,
   "id": "11143eee-ea0f-4666-9269-9777006c7a1c",
   "metadata": {},
   "outputs": [
    {
     "data": {
      "text/plain": [
       "array([0.        , 0.00694444, 0.01020408, 0.01171875, 0.01234568])"
      ]
     },
     "execution_count": 22,
     "metadata": {},
     "output_type": "execute_result"
    }
   ],
   "source": [
    "a/b"
   ]
  },
  {
   "cell_type": "code",
   "execution_count": 23,
   "id": "ff5f9c64-0f5a-4d9f-b5d4-e82dc196e2c7",
   "metadata": {},
   "outputs": [
    {
     "data": {
      "text/plain": [
       "array([False, False, False, False, False])"
      ]
     },
     "execution_count": 23,
     "metadata": {},
     "output_type": "execute_result"
    }
   ],
   "source": [
    "a>b"
   ]
  },
  {
   "cell_type": "code",
   "execution_count": 24,
   "id": "625bcdcd-c11c-4300-8787-11acc9657671",
   "metadata": {},
   "outputs": [
    {
     "data": {
      "text/plain": [
       "array([0, 1, 2, 3, 4])"
      ]
     },
     "execution_count": 24,
     "metadata": {},
     "output_type": "execute_result"
    }
   ],
   "source": [
    "a[a<b]"
   ]
  },
  {
   "cell_type": "code",
   "execution_count": 25,
   "id": "54761952-1c01-419c-bec9-1cc09e1dfd2b",
   "metadata": {},
   "outputs": [
    {
     "data": {
      "text/plain": [
       "np.int64(4)"
      ]
     },
     "execution_count": 25,
     "metadata": {},
     "output_type": "execute_result"
    }
   ],
   "source": [
    "a.max()"
   ]
  },
  {
   "cell_type": "code",
   "execution_count": 26,
   "id": "04037b1f-85ef-4d6c-9c1b-fd6281dece6e",
   "metadata": {},
   "outputs": [
    {
     "data": {
      "text/plain": [
       "np.int64(10)"
      ]
     },
     "execution_count": 26,
     "metadata": {},
     "output_type": "execute_result"
    }
   ],
   "source": [
    "a.sum()"
   ]
  },
  {
   "cell_type": "markdown",
   "id": "6e5eaa1e-0cb3-41c2-a1b1-75e81fd61965",
   "metadata": {},
   "source": [
    "***Multiplication***"
   ]
  },
  {
   "cell_type": "code",
   "execution_count": 102,
   "id": "f8ed2e95-e30b-465e-8d8c-a0ce647067cd",
   "metadata": {},
   "outputs": [],
   "source": [
    "def vector_vector_mul(u,v):\n",
    "    assert u.shape[0] == v.shape[0]\n",
    "\n",
    "    n = u.shape[0]\n",
    "    result = 0.0\n",
    "    for i in range(n):\n",
    "        result = result + u[i]*v[i]\n",
    "    return result"
   ]
  },
  {
   "cell_type": "code",
   "execution_count": 92,
   "id": "1d10eb09-75b5-4009-b0aa-6c11edf4e48d",
   "metadata": {},
   "outputs": [
    {
     "data": {
      "text/plain": [
       "array([2, 4, 5, 6])"
      ]
     },
     "execution_count": 92,
     "metadata": {},
     "output_type": "execute_result"
    }
   ],
   "source": [
    "u = np.array([2,4,5,6])\n",
    "u"
   ]
  },
  {
   "cell_type": "code",
   "execution_count": 93,
   "id": "712783ec-eaa0-4014-b23f-0af728f3e6ae",
   "metadata": {},
   "outputs": [
    {
     "data": {
      "text/plain": [
       "(4,)"
      ]
     },
     "execution_count": 93,
     "metadata": {},
     "output_type": "execute_result"
    }
   ],
   "source": [
    "u.shape"
   ]
  },
  {
   "cell_type": "code",
   "execution_count": 94,
   "id": "c0483773-a5c3-4554-a184-2495d295ec69",
   "metadata": {},
   "outputs": [
    {
     "data": {
      "text/plain": [
       "array([1, 0, 0, 2])"
      ]
     },
     "execution_count": 94,
     "metadata": {},
     "output_type": "execute_result"
    }
   ],
   "source": [
    "v = np.array([1,0,0,2])\n",
    "v"
   ]
  },
  {
   "cell_type": "code",
   "execution_count": 78,
   "id": "22d47e9e-d140-4a05-8fcc-852de35b76d6",
   "metadata": {},
   "outputs": [
    {
     "data": {
      "text/plain": [
       "(4,)"
      ]
     },
     "execution_count": 78,
     "metadata": {},
     "output_type": "execute_result"
    }
   ],
   "source": [
    "v.shape"
   ]
  },
  {
   "cell_type": "code",
   "execution_count": 79,
   "id": "dde5690b-5d42-4f26-81d9-ed40f473e4f2",
   "metadata": {},
   "outputs": [
    {
     "data": {
      "text/plain": [
       "np.float64(14.0)"
      ]
     },
     "execution_count": 79,
     "metadata": {},
     "output_type": "execute_result"
    }
   ],
   "source": [
    "vector_vector_mul(u,v)"
   ]
  },
  {
   "cell_type": "code",
   "execution_count": 80,
   "id": "3bab06e8-98f7-4c6c-ae9e-13217312e887",
   "metadata": {},
   "outputs": [
    {
     "data": {
      "text/plain": [
       "np.int64(14)"
      ]
     },
     "execution_count": 80,
     "metadata": {},
     "output_type": "execute_result"
    }
   ],
   "source": [
    "u.dot(v)"
   ]
  },
  {
   "cell_type": "markdown",
   "id": "a2075ca2-54a6-4b4b-90c1-20a60dc4d32a",
   "metadata": {},
   "source": [
    "**Matrix Vector Multiplication**"
   ]
  },
  {
   "cell_type": "code",
   "execution_count": 103,
   "id": "73dc2730-b7a8-4047-9dec-736c56a7c3fe",
   "metadata": {},
   "outputs": [],
   "source": [
    "def matrix_vector_mul(U,v):\n",
    "    assert U.shape[1] == v.shape[0]\n",
    "\n",
    "    n = U.shape[0]\n",
    "    result = np.zeros(n)\n",
    "    for i in range(n):\n",
    "        result[i] = vector_vector_mul(U[i]*v)\n",
    "    return result"
   ]
  },
  {
   "cell_type": "code",
   "execution_count": 99,
   "id": "23627849-048e-4c47-8769-fa7964c91d17",
   "metadata": {},
   "outputs": [
    {
     "data": {
      "text/plain": [
       "(3, 4)"
      ]
     },
     "execution_count": 99,
     "metadata": {},
     "output_type": "execute_result"
    }
   ],
   "source": [
    "u = np.array([\n",
    "    [2,4,5,6],\n",
    "    [1,2,1,2],\n",
    "    [3,1,2,1]\n",
    "])\n",
    "u.shape"
   ]
  },
  {
   "cell_type": "code",
   "execution_count": 100,
   "id": "908ba5b0-1b80-4656-96fd-b52f22d31bff",
   "metadata": {},
   "outputs": [
    {
     "data": {
      "text/plain": [
       "(4, 1)"
      ]
     },
     "execution_count": 100,
     "metadata": {},
     "output_type": "execute_result"
    }
   ],
   "source": [
    "v = np.array([\n",
    "    [1],\n",
    "    [0.5],\n",
    "    [2],\n",
    "    [1]\n",
    "])\n",
    "v.shape"
   ]
  },
  {
   "cell_type": "code",
   "execution_count": 104,
   "id": "0f9cddcd-92f1-433d-bfc8-01bfa830b3b8",
   "metadata": {},
   "outputs": [
    {
     "ename": "TypeError",
     "evalue": "vector_vector_mul() missing 1 required positional argument: 'v'",
     "output_type": "error",
     "traceback": [
      "\u001b[31m---------------------------------------------------------------------------\u001b[39m",
      "\u001b[31mTypeError\u001b[39m                                 Traceback (most recent call last)",
      "\u001b[36mCell\u001b[39m\u001b[36m \u001b[39m\u001b[32mIn[104]\u001b[39m\u001b[32m, line 1\u001b[39m\n\u001b[32m----> \u001b[39m\u001b[32m1\u001b[39m \u001b[43mmatrix_vector_mul\u001b[49m\u001b[43m(\u001b[49m\u001b[43mu\u001b[49m\u001b[43m,\u001b[49m\u001b[43mv\u001b[49m\u001b[43m)\u001b[49m\n",
      "\u001b[36mCell\u001b[39m\u001b[36m \u001b[39m\u001b[32mIn[103]\u001b[39m\u001b[32m, line 7\u001b[39m, in \u001b[36mmatrix_vector_mul\u001b[39m\u001b[34m(U, v)\u001b[39m\n\u001b[32m      5\u001b[39m result = np.zeros(n)\n\u001b[32m      6\u001b[39m \u001b[38;5;28;01mfor\u001b[39;00m i \u001b[38;5;129;01min\u001b[39;00m \u001b[38;5;28mrange\u001b[39m(n):\n\u001b[32m----> \u001b[39m\u001b[32m7\u001b[39m     result[i] = \u001b[43mvector_vector_mul\u001b[49m\u001b[43m(\u001b[49m\u001b[43mU\u001b[49m\u001b[43m[\u001b[49m\u001b[43mi\u001b[49m\u001b[43m]\u001b[49m\u001b[43m*\u001b[49m\u001b[43mv\u001b[49m\u001b[43m)\u001b[49m\n\u001b[32m      8\u001b[39m \u001b[38;5;28;01mreturn\u001b[39;00m result\n",
      "\u001b[31mTypeError\u001b[39m: vector_vector_mul() missing 1 required positional argument: 'v'"
     ]
    }
   ],
   "source": [
    "matrix_vector_mul(u,v)"
   ]
  },
  {
   "cell_type": "code",
   "execution_count": null,
   "id": "45220d77-388c-4755-b51a-05d141a1eaf1",
   "metadata": {},
   "outputs": [],
   "source": []
  },
  {
   "cell_type": "code",
   "execution_count": 88,
   "id": "fdf77c81-961e-46a3-b88b-8b9e079fe78f",
   "metadata": {},
   "outputs": [
    {
     "data": {
      "text/plain": [
       "(3, 4)"
      ]
     },
     "execution_count": 88,
     "metadata": {},
     "output_type": "execute_result"
    }
   ],
   "source": []
  },
  {
   "cell_type": "code",
   "execution_count": 89,
   "id": "7d3f47c7-9df7-44fd-863f-5774230ae6a0",
   "metadata": {},
   "outputs": [
    {
     "ename": "AttributeError",
     "evalue": "'list' object has no attribute 'shape'",
     "output_type": "error",
     "traceback": [
      "\u001b[31m---------------------------------------------------------------------------\u001b[39m",
      "\u001b[31mAttributeError\u001b[39m                            Traceback (most recent call last)",
      "\u001b[36mCell\u001b[39m\u001b[36m \u001b[39m\u001b[32mIn[89]\u001b[39m\u001b[32m, line 7\u001b[39m\n\u001b[32m      1\u001b[39m v = ([\n\u001b[32m      2\u001b[39m     [\u001b[32m1\u001b[39m],\n\u001b[32m      3\u001b[39m     [\u001b[32m0.5\u001b[39m],\n\u001b[32m      4\u001b[39m     [\u001b[32m2\u001b[39m],\n\u001b[32m      5\u001b[39m     [\u001b[32m1\u001b[39m]\n\u001b[32m      6\u001b[39m ])\n\u001b[32m----> \u001b[39m\u001b[32m7\u001b[39m \u001b[43mv\u001b[49m\u001b[43m.\u001b[49m\u001b[43mshape\u001b[49m    \n",
      "\u001b[31mAttributeError\u001b[39m: 'list' object has no attribute 'shape'"
     ]
    }
   ],
   "source": []
  },
  {
   "cell_type": "code",
   "execution_count": null,
   "id": "2ead5725-a509-42a0-8fac-3317fe058b6c",
   "metadata": {},
   "outputs": [],
   "source": []
  }
 ],
 "metadata": {
  "kernelspec": {
   "display_name": "Python 3 (ipykernel)",
   "language": "python",
   "name": "python3"
  },
  "language_info": {
   "codemirror_mode": {
    "name": "ipython",
    "version": 3
   },
   "file_extension": ".py",
   "mimetype": "text/x-python",
   "name": "python",
   "nbconvert_exporter": "python",
   "pygments_lexer": "ipython3",
   "version": "3.12.1"
  }
 },
 "nbformat": 4,
 "nbformat_minor": 5
}
